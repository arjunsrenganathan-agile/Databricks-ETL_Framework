{
 "cells": [
  {
   "cell_type": "code",
   "execution_count": 0,
   "metadata": {
    "application/vnd.databricks.v1+cell": {
     "cellMetadata": {},
     "inputWidgets": {},
     "nuid": "23a54fd0-231a-47a5-b35a-55c15a17c54a",
     "showTitle": false,
     "tableResultSettingsMap": {},
     "title": ""
    }
   },
   "outputs": [],
   "source": [
    "def get_gold_table_names():\n",
    "    gold_tables_df = spark.sql(\"\"\"\n",
    "        SELECT table_name \n",
    "        FROM tracking_table \n",
    "        WHERE layer = 'Gold'\n",
    "    \"\"\")\n",
    "    return [row.table_name for row in gold_tables_df.collect()]"
   ]
  },
  {
   "cell_type": "code",
   "execution_count": 0,
   "metadata": {
    "application/vnd.databricks.v1+cell": {
     "cellMetadata": {},
     "inputWidgets": {},
     "nuid": "64961b14-9f0e-4455-87fb-71191ebdc269",
     "showTitle": false,
     "tableResultSettingsMap": {},
     "title": ""
    }
   },
   "outputs": [],
   "source": [
    "def dq_checks_gold(input_df):\n",
    "    failure_log = []\n",
    "    \n",
    "    try:\n",
    "        # Check for expected range of values\n",
    "        out_of_range = input_df.filter((col(\"metric\") < min_value) | (col(\"metric\") > max_value)).collect()\n",
    "        for row in out_of_range:\n",
    "            failure_log.append((row[\"business_key\"], \"Metric out of range\"))\n",
    "        \n",
    "        # Check for consistency in aggregated metrics\n",
    "        inconsistent_metrics = input_df.groupBy(\"dimension\").agg({\"metric\": \"sum\"}).filter(\"sum(metric) != expected_value\").collect()\n",
    "        for row in inconsistent_metrics:\n",
    "            failure_log.append((row[\"dimension\"], \"Inconsistent metric values\"))\n",
    "        \n",
    "        # Log failures to the dq_failure_log table\n",
    "        if failure_log:\n",
    "            for record_id, reason in failure_log:\n",
    "                spark.sql(f\"\"\"\n",
    "                    INSERT INTO dq_failure_log (layer, record_id, failure_reason)\n",
    "                    VALUES ('Gold', '{record_id}', '{reason}')\n",
    "                \"\"\")\n",
    "    \n",
    "    except Exception as e:\n",
    "        # Log exceptions to the dq_failure_log table\n",
    "        spark.sql(f\"\"\"\n",
    "            INSERT INTO dq_failure_log (layer, record_id, failure_reason)\n",
    "            VALUES ('Gold', NULL, 'Exception: {str(e)}')\n",
    "        \"\"\")\n",
    "    \n",
    "    return failure_log"
   ]
  },
  {
   "cell_type": "code",
   "execution_count": 0,
   "metadata": {
    "application/vnd.databricks.v1+cell": {
     "cellMetadata": {},
     "inputWidgets": {},
     "nuid": "3667698c-c425-4fa4-b864-694e3f0236d2",
     "showTitle": false,
     "tableResultSettingsMap": {},
     "title": ""
    }
   },
   "outputs": [],
   "source": [
    "def log_to_table(table_name, layer, log_message, error_flag=False):\n",
    "    timestamp = spark.sql(\"SELECT current_timestamp()\").collect()[0][0]\n",
    "    spark.sql(f\"\"\"\n",
    "        INSERT INTO logging_table (table_name, layer, log_message, log_timestamp, error_flag)\n",
    "        VALUES ('{table_name}', '{layer}', '{log_message}', '{timestamp}', {error_flag})\n",
    "    \"\"\")"
   ]
  },
  {
   "cell_type": "code",
   "execution_count": 0,
   "metadata": {
    "application/vnd.databricks.v1+cell": {
     "cellMetadata": {},
     "inputWidgets": {},
     "nuid": "35106645-ab28-4cce-b029-4311925e32c1",
     "showTitle": false,
     "tableResultSettingsMap": {},
     "title": ""
    }
   },
   "outputs": [],
   "source": [
    "try:\n",
    "    # Get the list of gold table names\n",
    "    gold_table_names = get_gold_table_names()  # Assuming this function exists\n",
    "        \n",
    "    for table_name in gold_table_names:\n",
    "        # Load the DataFrame for the current gold table\n",
    "        input_df = spark.table(table_name)\n",
    "\n",
    "        # Execute the gold data quality checks\n",
    "        dq_checks_gold(input_df)\n",
    "\n",
    "except Exception as e:\n",
    "    log_to_table(\"Gold DQ check Execution\", \"Gold\", f\"Error during gold table operations: {str(e)}\", error_flag=True)\n",
    "    print(f\"Error during gold table operations: {str(e)}\")"
   ]
  }
 ],
 "metadata": {
  "application/vnd.databricks.v1+notebook": {
   "computePreferences": null,
   "dashboards": [],
   "environmentMetadata": {
    "base_environment": "",
    "environment_version": "2"
   },
   "inputWidgetPreferences": null,
   "language": "python",
   "notebookMetadata": {
    "pythonIndentUnit": 4
   },
   "notebookName": "Gold_Data_Quality_Checks",
   "widgets": {}
  },
  "language_info": {
   "name": "python"
  }
 },
 "nbformat": 4,
 "nbformat_minor": 0
}
