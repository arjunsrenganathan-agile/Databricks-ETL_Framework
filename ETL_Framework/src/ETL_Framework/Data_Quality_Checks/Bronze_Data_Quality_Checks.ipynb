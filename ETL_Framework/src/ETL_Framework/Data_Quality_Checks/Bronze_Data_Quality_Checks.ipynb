{
 "cells": [
  {
   "cell_type": "code",
   "execution_count": 0,
   "metadata": {
    "application/vnd.databricks.v1+cell": {
     "cellMetadata": {
      "byteLimit": 2048000,
      "rowLimit": 10000
     },
     "inputWidgets": {},
     "nuid": "ead631b5-c4f4-44d2-bf50-86dd4b27c028",
     "showTitle": false,
     "tableResultSettingsMap": {},
     "title": ""
    }
   },
   "outputs": [],
   "source": [
    "def get_bronze_table_names():\n",
    "    bronze_tables_df = spark.sql(\"\"\"\n",
    "        SELECT table_name \n",
    "        FROM tracking_table \n",
    "        WHERE layer = 'Bronze'\n",
    "    \"\"\")\n",
    "    return [row.table_name for row in bronze_tables_df.collect()]"
   ]
  },
  {
   "cell_type": "code",
   "execution_count": 0,
   "metadata": {
    "application/vnd.databricks.v1+cell": {
     "cellMetadata": {
      "byteLimit": 2048000,
      "rowLimit": 10000
     },
     "inputWidgets": {},
     "nuid": "7b4e3d0b-42cb-420d-b143-bb39576b26d3",
     "showTitle": false,
     "tableResultSettingsMap": {},
     "title": ""
    }
   },
   "outputs": [],
   "source": [
    "def dq_checks_bronze(input_df):\n",
    "    failure_log = []\n",
    "    \n",
    "    try:\n",
    "        # Check for null values in critical columns\n",
    "        for col_name in critical_columns:\n",
    "            null_count = input_df.filter(col(col_name).isNull()).count()\n",
    "            if null_count > 0:\n",
    "                failure_log.append((col_name, \"Null values found\"))\n",
    "        \n",
    "        # Check for duplicates\n",
    "        duplicates = input_df.groupBy(critical_columns).count().filter(\"count > 1\").collect()\n",
    "        for row in duplicates:\n",
    "            failure_log.append((row[0], \"Duplicate records found\"))\n",
    "\n",
    "        # Log failures to the dq_failure_log table\n",
    "        if failure_log:\n",
    "            for record_id, reason in failure_log:\n",
    "                spark.sql(f\"\"\"\n",
    "                    INSERT INTO dq_failure_log (layer, record_id, failure_reason)\n",
    "                    VALUES ('Bronze', '{record_id}', '{reason}')\n",
    "                \"\"\")\n",
    "    \n",
    "    except Exception as e:\n",
    "        # Log exceptions to the dq_failure_log table\n",
    "        spark.sql(f\"\"\"\n",
    "            INSERT INTO dq_failure_log (layer, record_id, failure_reason)\n",
    "            VALUES ('Bronze', NULL, 'Exception: {str(e)}')\n",
    "        \"\"\")\n",
    "    \n",
    "    return failure_log"
   ]
  },
  {
   "cell_type": "code",
   "execution_count": 0,
   "metadata": {
    "application/vnd.databricks.v1+cell": {
     "cellMetadata": {
      "byteLimit": 2048000,
      "rowLimit": 10000
     },
     "inputWidgets": {},
     "nuid": "db1fc4d1-a99b-4a37-8c59-8c5c5884dbdb",
     "showTitle": false,
     "tableResultSettingsMap": {},
     "title": ""
    }
   },
   "outputs": [],
   "source": [
    "def log_to_table(table_name, layer, log_message, error_flag=False):\n",
    "    timestamp = spark.sql(\"SELECT current_timestamp()\").collect()[0][0]\n",
    "    spark.sql(f\"\"\"\n",
    "        INSERT INTO logging_table (table_name, layer, log_message, log_timestamp, error_flag)\n",
    "        VALUES ('{table_name}', '{layer}', '{log_message}', '{timestamp}', {error_flag})\n",
    "    \"\"\")"
   ]
  },
  {
   "cell_type": "code",
   "execution_count": 0,
   "metadata": {
    "application/vnd.databricks.v1+cell": {
     "cellMetadata": {
      "byteLimit": 2048000,
      "rowLimit": 10000
     },
     "inputWidgets": {},
     "nuid": "fafd62d3-9c28-400d-bc00-af208955e853",
     "showTitle": false,
     "tableResultSettingsMap": {},
     "title": ""
    }
   },
   "outputs": [],
   "source": [
    "try:\n",
    "    # Get the list of bronze table names\n",
    "    bronze_table_names = get_bronze_table_names()\n",
    "        \n",
    "    for table_name in bronze_table_names:\n",
    "        # Load the DataFrame for the current bronze table\n",
    "        input_df = spark.table(table_name)\n",
    "\n",
    "        # Execute the bronze data quality checks\n",
    "        dq_checks_bronze(input_df)\n",
    "except Exception as e:\n",
    "    log_to_table(\"Bronze DQ check Execution\", \"Bronze\", f\"Error during bronze table operations: {str(e)}\", error_flag=True)\n",
    "    print(f\"Error during bronze table operations: {str(e)}\")"
   ]
  }
 ],
 "metadata": {
  "application/vnd.databricks.v1+notebook": {
   "computePreferences": null,
   "dashboards": [],
   "environmentMetadata": {
    "base_environment": "",
    "environment_version": "2"
   },
   "inputWidgetPreferences": null,
   "language": "python",
   "notebookMetadata": {
    "pythonIndentUnit": 4
   },
   "notebookName": "Bronze_Data_Quality_Checks",
   "widgets": {}
  },
  "language_info": {
   "name": "python"
  }
 },
 "nbformat": 4,
 "nbformat_minor": 0
}
