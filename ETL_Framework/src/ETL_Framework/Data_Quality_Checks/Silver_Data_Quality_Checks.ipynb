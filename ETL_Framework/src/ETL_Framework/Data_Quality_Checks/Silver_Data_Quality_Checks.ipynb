{
 "cells": [
  {
   "cell_type": "code",
   "execution_count": 0,
   "metadata": {
    "application/vnd.databricks.v1+cell": {
     "cellMetadata": {
      "byteLimit": 2048000,
      "rowLimit": 10000
     },
     "inputWidgets": {},
     "nuid": "27d0f0c5-d820-48ad-ab82-e1969be6c94c",
     "showTitle": false,
     "tableResultSettingsMap": {},
     "title": ""
    }
   },
   "outputs": [],
   "source": [
    "def get_silver_table_names():\n",
    "    silver_tables_df = spark.sql(\"\"\"\n",
    "        SELECT table_name \n",
    "        FROM tracking_table \n",
    "        WHERE layer = 'Silver'\n",
    "    \"\"\")\n",
    "    return [row.table_name for row in silver_tables_df.collect()]"
   ]
  },
  {
   "cell_type": "code",
   "execution_count": 0,
   "metadata": {
    "application/vnd.databricks.v1+cell": {
     "cellMetadata": {
      "byteLimit": 2048000,
      "rowLimit": 10000
     },
     "inputWidgets": {},
     "nuid": "5c91affe-68fa-49ff-bff8-b401fc402e2f",
     "showTitle": false,
     "tableResultSettingsMap": {},
     "title": ""
    }
   },
   "outputs": [],
   "source": [
    "def dq_checks_silver(input_df):\n",
    "    failure_log = []\n",
    "    \n",
    "    try:\n",
    "        # Check for data type conformity\n",
    "        for col_name, expected_type in expected_types.items():\n",
    "            actual_type = input_df.schema[col_name].dataType.simpleString\n",
    "            if actual_type != expected_type:\n",
    "                failure_log.append((col_name, f\"Type mismatch: expected {expected_type}, found {actual_type}\"))\n",
    "        \n",
    "        # Check for valid values in categorical columns\n",
    "        invalid_values = input_df.filter(~col(\"category_column\").isin(valid_categories)).collect()\n",
    "        for row in invalid_values:\n",
    "            failure_log.append((row[\"business_key\"], \"Invalid category value\"))\n",
    "        \n",
    "        # Log failures to the dq_failure_log table\n",
    "        if failure_log:\n",
    "            for record_id, reason in failure_log:\n",
    "                spark.sql(f\"\"\"\n",
    "                    INSERT INTO dq_failure_log (layer, record_id, failure_reason)\n",
    "                    VALUES ('Silver', '{record_id}', '{reason}')\n",
    "                \"\"\")\n",
    "    \n",
    "    except Exception as e:\n",
    "        # Log exceptions to the dq_failure_log table\n",
    "        spark.sql(f\"\"\"\n",
    "            INSERT INTO dq_failure_log (layer, record_id, failure_reason)\n",
    "            VALUES ('Silver', NULL, 'Exception: {str(e)}')\n",
    "        \"\"\")\n",
    "    \n",
    "    return failure_log"
   ]
  },
  {
   "cell_type": "code",
   "execution_count": 0,
   "metadata": {
    "application/vnd.databricks.v1+cell": {
     "cellMetadata": {
      "byteLimit": 2048000,
      "rowLimit": 10000
     },
     "inputWidgets": {},
     "nuid": "18fd8210-b59f-4ce0-99c6-e147dfc882ef",
     "showTitle": false,
     "tableResultSettingsMap": {},
     "title": ""
    }
   },
   "outputs": [],
   "source": [
    "def log_to_table(table_name, layer, log_message, error_flag=False):\n",
    "    timestamp = spark.sql(\"SELECT current_timestamp()\").collect()[0][0]\n",
    "    spark.sql(f\"\"\"\n",
    "        INSERT INTO logging_table (table_name, layer, log_message, log_timestamp, error_flag)\n",
    "        VALUES ('{table_name}', '{layer}', '{log_message}', '{timestamp}', {error_flag})\n",
    "    \"\"\")"
   ]
  },
  {
   "cell_type": "code",
   "execution_count": 0,
   "metadata": {
    "application/vnd.databricks.v1+cell": {
     "cellMetadata": {
      "byteLimit": 2048000,
      "rowLimit": 10000
     },
     "inputWidgets": {},
     "nuid": "4f21e99a-d72b-486d-acb0-eeeafc40492d",
     "showTitle": false,
     "tableResultSettingsMap": {},
     "title": ""
    }
   },
   "outputs": [],
   "source": [
    "try:\n",
    "    # Get the list of silver table names\n",
    "    silver_table_names = get_silver_table_names()  # Assuming this function exists\n",
    "    for table_name in silver_table_names:\n",
    "    # Load the DataFrame for the current silver table\n",
    "        input_df = spark.table(table_name)\n",
    "\n",
    "        # Execute the silver data quality checks\n",
    "        dq_checks_silver(input_df)\n",
    "\n",
    "except Exception as e:\n",
    "    log_to_table(table_name, \"Silver\", f\"No configuration found for table: {table_name}\", error_flag=True)\n",
    "    print(f\"Error during silver table operations: {str(e)}\")"
   ]
  }
 ],
 "metadata": {
  "application/vnd.databricks.v1+notebook": {
   "computePreferences": null,
   "dashboards": [],
   "environmentMetadata": {
    "base_environment": "",
    "environment_version": "2"
   },
   "inputWidgetPreferences": null,
   "language": "python",
   "notebookMetadata": {
    "pythonIndentUnit": 4
   },
   "notebookName": "Silver_Data_Quality_Checks",
   "widgets": {}
  },
  "language_info": {
   "name": "python"
  }
 },
 "nbformat": 4,
 "nbformat_minor": 0
}
