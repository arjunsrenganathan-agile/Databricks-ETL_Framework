{
 "cells": [
  {
   "cell_type": "code",
   "execution_count": 0,
   "metadata": {
    "application/vnd.databricks.v1+cell": {
     "cellMetadata": {},
     "inputWidgets": {},
     "nuid": "5e2fba72-aeda-4782-8c8d-63572ef511be",
     "showTitle": false,
     "tableResultSettingsMap": {},
     "title": ""
    }
   },
   "outputs": [],
   "source": [
    "def handle_transaction_fact(df, config):\n",
    "    # Assume df contains transaction data\n",
    "    # Load existing records\n",
    "    existing_df = spark.table(config.gold_table_name)\n",
    "\n",
    "    # Insert new transactions\n",
    "    combined_df = existing_df.union(df)\n",
    "\n",
    "    # Write back to the gold table\n",
    "    combined_df.write.format(\"delta\").mode(\"overwrite\").saveAsTable(config.gold_table_name)"
   ]
  },
  {
   "cell_type": "code",
   "execution_count": 0,
   "metadata": {
    "application/vnd.databricks.v1+cell": {
     "cellMetadata": {},
     "inputWidgets": {},
     "nuid": "8ccc9341-a0f7-4a83-a8ce-7e62b667fedb",
     "showTitle": false,
     "tableResultSettingsMap": {},
     "title": ""
    }
   },
   "outputs": [],
   "source": [
    "def handle_accumulating_snapshot(df, config):\n",
    "    # Load existing snapshot records\n",
    "    existing_df = spark.table(config.gold_table_name)\n",
    "\n",
    "    # Update existing records and insert new ones as needed\n",
    "    combined_df = existing_df.alias(\"existing\").join(\n",
    "        df.alias(\"new\"),\n",
    "        on=\"primary_key\",  # Replace with your actual primary key column\n",
    "        how=\"outer\"\n",
    "    ).select(\n",
    "        \"existing.primary_key\",\n",
    "        \"existing.metric1\",  # Existing metrics\n",
    "        \"existing.metric2\",  # Existing metrics\n",
    "        \"new.metric1\",       # New metrics\n",
    "        \"new.metric2\"        # New metrics\n",
    "    )\n",
    "\n",
    "    # Write back to the gold table\n",
    "    combined_df.write.format(\"delta\").mode(\"overwrite\").saveAsTable(config.gold_table_name)"
   ]
  },
  {
   "cell_type": "code",
   "execution_count": 0,
   "metadata": {
    "application/vnd.databricks.v1+cell": {
     "cellMetadata": {},
     "inputWidgets": {},
     "nuid": "8fc18ce5-cf74-47c8-a61c-e5cb34a477fc",
     "showTitle": false,
     "tableResultSettingsMap": {},
     "title": ""
    }
   },
   "outputs": [],
   "source": [
    "def handle_periodic_snapshot(df, config):\n",
    "    # Load existing snapshot records\n",
    "    existing_df = spark.table(config.gold_table_name)\n",
    "\n",
    "    # Add a timestamp for the snapshot\n",
    "    snapshot_timestamp = spark.sql(\"SELECT current_timestamp()\").collect()[0][0]\n",
    "    df = df.withColumn(\"snapshot_ts\", lit(snapshot_timestamp))\n",
    "\n",
    "    # Combine existing and new snapshots\n",
    "    combined_df = existing_df.union(df)\n",
    "\n",
    "    # Write back to the gold table\n",
    "    combined_df.write.format(\"delta\").mode(\"overwrite\").saveAsTable(config.gold_table_name)"
   ]
  },
  {
   "cell_type": "code",
   "execution_count": 0,
   "metadata": {
    "application/vnd.databricks.v1+cell": {
     "cellMetadata": {},
     "inputWidgets": {},
     "nuid": "e8ee9959-14e8-4261-9159-02c6f2e0b94f",
     "showTitle": false,
     "tableResultSettingsMap": {},
     "title": ""
    }
   },
   "outputs": [],
   "source": [
    "def handle_insert_only_fact(df, config):\n",
    "    # Load existing records (if needed for any validations)\n",
    "    existing_df = spark.table(config.gold_table_name)\n",
    "\n",
    "    # Insert new records\n",
    "    combined_df = existing_df.union(df)\n",
    "\n",
    "    # Write back to the gold table\n",
    "    combined_df.write.format(\"delta\").mode(\"append\").saveAsTable(config.gold_table_name)"
   ]
  }
 ],
 "metadata": {
  "application/vnd.databricks.v1+notebook": {
   "computePreferences": null,
   "dashboards": [],
   "environmentMetadata": {
    "base_environment": "",
    "environment_version": "2"
   },
   "inputWidgetPreferences": null,
   "language": "python",
   "notebookMetadata": {
    "pythonIndentUnit": 4
   },
   "notebookName": "Facts",
   "widgets": {}
  },
  "language_info": {
   "name": "python"
  }
 },
 "nbformat": 4,
 "nbformat_minor": 0
}
