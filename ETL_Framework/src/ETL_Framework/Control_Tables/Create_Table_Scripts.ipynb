{
 "cells": [
  {
   "cell_type": "code",
   "execution_count": 0,
   "metadata": {
    "application/vnd.databricks.v1+cell": {
     "cellMetadata": {
      "byteLimit": 2048000,
      "implicitDf": true,
      "rowLimit": 10000
     },
     "inputWidgets": {},
     "nuid": "ab646c2b-71cd-49e4-855f-e22568a3c7cf",
     "showTitle": false,
     "tableResultSettingsMap": {},
     "title": ""
    }
   },
   "outputs": [],
   "source": [
    "%sql\n",
    "CREATE OR REPLACE TABLE bronze_control_table (\n",
    "    id BIGINT GENERATED ALWAYS AS IDENTITY,\n",
    "    source_system STRING,\n",
    "    bronze_table_name STRING,\n",
    "    silver_schema_name STRING,\n",
    "    load_type STRING,\n",
    "    file_location STRING,\n",
    "    record_ts TIMESTAMP,\n",
    "    record_is_active BOOLEAN,\n",
    "    PRIMARY KEY (id)\n",
    ") USING DELTA;"
   ]
  },
  {
   "cell_type": "code",
   "execution_count": 0,
   "metadata": {
    "application/vnd.databricks.v1+cell": {
     "cellMetadata": {
      "byteLimit": 2048000,
      "implicitDf": true,
      "rowLimit": 10000
     },
     "inputWidgets": {},
     "nuid": "1a19a934-7034-42fc-8c66-3a710357810c",
     "showTitle": false,
     "tableResultSettingsMap": {},
     "title": ""
    }
   },
   "outputs": [],
   "source": [
    "%sql\n",
    "CREATE OR REPLACE TABLE silver_control_table (\n",
    "    id BIGINT GENERATED ALWAYS AS IDENTITY,\n",
    "    source_system STRING,\n",
    "    silver_table_name STRING,\n",
    "    bronze_schema_name STRING,\n",
    "    load_type STRING,\n",
    "    file_location STRING,\n",
    "    record_ts TIMESTAMP,\n",
    "    record_is_active BOOLEAN,\n",
    "    PRIMARY KEY (id)\n",
    ") USING DELTA;"
   ]
  },
  {
   "cell_type": "code",
   "execution_count": 0,
   "metadata": {
    "application/vnd.databricks.v1+cell": {
     "cellMetadata": {
      "byteLimit": 2048000,
      "implicitDf": true,
      "rowLimit": 10000
     },
     "inputWidgets": {},
     "nuid": "0177e27c-9230-4237-aed0-fb082101a26e",
     "showTitle": false,
     "tableResultSettingsMap": {},
     "title": ""
    }
   },
   "outputs": [],
   "source": [
    "%sql\n",
    "CREATE OR REPLACE TABLE gold_control_table (\n",
    "    id BIGINT GENERATED ALWAYS AS IDENTITY,\n",
    "    source_system STRING,\n",
    "    gold_table_name STRING,\n",
    "    silver_schema_name STRING,\n",
    "    load_type STRING,  -- DIM or FCT\n",
    "    dimension_type STRING,  -- SCD1 or SCD2 for dimensions\n",
    "    fact_type STRING,  -- transaction, accumulating, periodic, insert_only for facts\n",
    "    file_location STRING,\n",
    "    record_ts TIMESTAMP,\n",
    "    record_is_active BOOLEAN,\n",
    "    PRIMARY KEY (id)\n",
    ") USING DELTA;"
   ]
  },
  {
   "cell_type": "code",
   "execution_count": 0,
   "metadata": {
    "application/vnd.databricks.v1+cell": {
     "cellMetadata": {
      "byteLimit": 2048000,
      "implicitDf": true,
      "rowLimit": 10000
     },
     "inputWidgets": {},
     "nuid": "054ac16e-5258-455f-9bd4-4974ea319939",
     "showTitle": false,
     "tableResultSettingsMap": {},
     "title": ""
    }
   },
   "outputs": [],
   "source": [
    "%sql\n",
    "CREATE OR REPLACE TABLE dq_rule_assignment (\n",
    "    assignment_id BIGINT GENERATED ALWAYS AS IDENTITY,\n",
    "    rule_id INT,\n",
    "    table_name STRING,\n",
    "    record_ts TIMESTAMP,\n",
    "    record_is_active BOOLEAN,\n",
    "    -- FOREIGN KEY (rule_id) REFERENCES dg_rule(rule_id),\n",
    "    PRIMARY KEY (assignment_id)\n",
    ") USING DELTA;"
   ]
  },
  {
   "cell_type": "code",
   "execution_count": 0,
   "metadata": {
    "application/vnd.databricks.v1+cell": {
     "cellMetadata": {
      "byteLimit": 2048000,
      "implicitDf": true,
      "rowLimit": 10000
     },
     "inputWidgets": {},
     "nuid": "75df58fd-30d3-4bd4-983e-287c2720b6f8",
     "showTitle": false,
     "tableResultSettingsMap": {},
     "title": ""
    }
   },
   "outputs": [],
   "source": [
    "%sql\n",
    "CREATE OR REPLACE TABLE dq_run_audit (\n",
    "    batch_id BIGINT GENERATED ALWAYS AS IDENTITY,\n",
    "    dq_task_run_id STRING,\n",
    "    source_schema_name STRING,\n",
    "    target_schema_name STRING,\n",
    "    pipeline_status STRING,\n",
    "    src_rec_count INT,\n",
    "    target_rec_count INT,\n",
    "    quarantine_rec_count INT,\n",
    "    dq_task_start_timestamp TIMESTAMP,\n",
    "    dq_task_end_timestamp TIMESTAMP,\n",
    "    PRIMARY KEY (batch_id)\n",
    ") USING DELTA;"
   ]
  },
  {
   "cell_type": "code",
   "execution_count": 0,
   "metadata": {
    "application/vnd.databricks.v1+cell": {
     "cellMetadata": {
      "byteLimit": 2048000,
      "implicitDf": true,
      "rowLimit": 10000
     },
     "inputWidgets": {},
     "nuid": "652091ea-ccbe-4485-ae57-6827fb7810ce",
     "showTitle": false,
     "tableResultSettingsMap": {},
     "title": ""
    }
   },
   "outputs": [],
   "source": [
    "%sql\n",
    "CREATE OR REPLACE TABLE job_run_audit (\n",
    "    job_id BIGINT GENERATED ALWAYS AS IDENTITY,\n",
    "    job_name STRING,\n",
    "    job_run_id STRING,\n",
    "    layer STRING,\n",
    "    job_status STRING,\n",
    "    task_start_timestamp TIMESTAMP,\n",
    "    task_end_timestamp TIMESTAMP,\n",
    "    PRIMARY KEY (job_id)\n",
    ") USING DELTA;"
   ]
  },
  {
   "cell_type": "code",
   "execution_count": 0,
   "metadata": {
    "application/vnd.databricks.v1+cell": {
     "cellMetadata": {
      "byteLimit": 2048000,
      "implicitDf": true,
      "rowLimit": 10000
     },
     "inputWidgets": {},
     "nuid": "8e786cb8-7fc3-4378-914f-32a22040eebe",
     "showTitle": false,
     "tableResultSettingsMap": {},
     "title": ""
    }
   },
   "outputs": [],
   "source": [
    "%sql\n",
    "CREATE OR REPLACE TABLE tracking_table (\n",
    "    table_name STRING,\n",
    "    layer STRING,\n",
    "    last_loaded TIMESTAMP,\n",
    "    PRIMARY KEY (table_name, layer)\n",
    ") USING DELTA;"
   ]
  },
  {
   "cell_type": "code",
   "execution_count": 0,
   "metadata": {
    "application/vnd.databricks.v1+cell": {
     "cellMetadata": {
      "byteLimit": 2048000,
      "implicitDf": true,
      "rowLimit": 10000
     },
     "inputWidgets": {},
     "nuid": "00810087-8157-4190-a32b-178418efa69f",
     "showTitle": false,
     "tableResultSettingsMap": {},
     "title": ""
    }
   },
   "outputs": [],
   "source": [
    "%sql\n",
    "CREATE OR REPLACE TABLE logging_table (\n",
    "    log_id BIGINT GENERATED BY DEFAULT AS IDENTITY PRIMARY KEY,\n",
    "    table_name STRING,\n",
    "    layer STRING,\n",
    "    log_message STRING,\n",
    "    log_timestamp TIMESTAMP,\n",
    "    error_flag BOOLEAN\n",
    ") USING DELTA;"
   ]
  },
  {
   "cell_type": "code",
   "execution_count": 0,
   "metadata": {
    "application/vnd.databricks.v1+cell": {
     "cellMetadata": {
      "byteLimit": 2048000,
      "implicitDf": true,
      "rowLimit": 10000
     },
     "inputWidgets": {},
     "nuid": "5a2facd7-1338-4234-864f-6fd5b46bcb04",
     "showTitle": false,
     "tableResultSettingsMap": {},
     "title": ""
    }
   },
   "outputs": [],
   "source": [
    "%sql\n",
    "-- Create or replace the table with the default column value\n",
    "CREATE OR REPLACE TABLE dq_failure_log (\n",
    "    id BIGINT GENERATED ALWAYS AS IDENTITY,\n",
    "    layer STRING,\n",
    "    record_id STRING,  -- Identifier for the record that failed (e.g., primary key)\n",
    "    failure_reason STRING,\n",
    "    timestamp TIMESTAMP,\n",
    "    PRIMARY KEY (id)\n",
    ") USING DELTA;"
   ]
  }
 ],
 "metadata": {
  "application/vnd.databricks.v1+notebook": {
   "computePreferences": null,
   "dashboards": [],
   "environmentMetadata": {
    "base_environment": "",
    "environment_version": "2"
   },
   "inputWidgetPreferences": null,
   "language": "python",
   "notebookMetadata": {
    "mostRecentlyExecutedCommandWithImplicitDF": {
     "commandId": 5164132322686323,
     "dataframes": [
      "_sqldf"
     ]
    },
    "pythonIndentUnit": 4
   },
   "notebookName": "Create_Table_Scripts",
   "widgets": {}
  },
  "language_info": {
   "name": "python"
  }
 },
 "nbformat": 4,
 "nbformat_minor": 0
}
